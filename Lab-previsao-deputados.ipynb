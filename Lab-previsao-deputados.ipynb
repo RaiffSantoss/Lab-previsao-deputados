{
 "cells": [
  {
   "cell_type": "code",
   "execution_count": 232,
   "id": "ba80d691",
   "metadata": {},
   "outputs": [],
   "source": [
    "import numpy as np\n",
    "from matplotlib import pyplot as plt\n",
    "from sklearn.preprocessing import StandardScaler\n",
    "from sklearn.linear_model import Ridge\n",
    "from sklearn.linear_model import Lasso\n",
    "from sklearn.ensemble import RandomForestRegressor\n",
    "from sklearn.tree import DecisionTreeClassifier\n",
    "from sklearn.tree import DecisionTreeRegressor\n",
    "from sklearn.neighbors import KNeighborsRegressor\n",
    "from sklearn.svm import SVR\n",
    "from sklearn.metrics import mean_squared_error\n",
    "from sklearn.metrics import accuracy_score\n",
    "from sklearn.model_selection import train_test_split\n",
    "import pandas as pd\n",
    "\n",
    "# Cross-Validation models.\n",
    "from sklearn.model_selection import cross_val_score\n",
    "from sklearn.model_selection import cross_val_predict\n",
    "from sklearn.model_selection import KFold"
   ]
  },
  {
   "cell_type": "code",
   "execution_count": 233,
   "id": "1bf7e2db",
   "metadata": {},
   "outputs": [
    {
     "data": {
      "text/html": [
       "<div>\n",
       "<style scoped>\n",
       "    .dataframe tbody tr th:only-of-type {\n",
       "        vertical-align: middle;\n",
       "    }\n",
       "\n",
       "    .dataframe tbody tr th {\n",
       "        vertical-align: top;\n",
       "    }\n",
       "\n",
       "    .dataframe thead th {\n",
       "        text-align: right;\n",
       "    }\n",
       "</style>\n",
       "<table border=\"1\" class=\"dataframe\">\n",
       "  <thead>\n",
       "    <tr style=\"text-align: right;\">\n",
       "      <th></th>\n",
       "      <th>ano</th>\n",
       "      <th>sequencial_candidato</th>\n",
       "      <th>nome</th>\n",
       "      <th>uf</th>\n",
       "      <th>partido</th>\n",
       "      <th>quantidade_doacoes</th>\n",
       "      <th>quantidade_doadores</th>\n",
       "      <th>total_receita</th>\n",
       "      <th>media_receita</th>\n",
       "      <th>recursos_de_outros_candidatos/comites</th>\n",
       "      <th>...</th>\n",
       "      <th>quantidade_despesas</th>\n",
       "      <th>quantidade_fornecedores</th>\n",
       "      <th>total_despesa</th>\n",
       "      <th>media_despesa</th>\n",
       "      <th>cargo</th>\n",
       "      <th>sexo</th>\n",
       "      <th>grau</th>\n",
       "      <th>estado_civil</th>\n",
       "      <th>ocupacao</th>\n",
       "      <th>votos</th>\n",
       "    </tr>\n",
       "  </thead>\n",
       "  <tbody>\n",
       "    <tr>\n",
       "      <th>0</th>\n",
       "      <td>2006</td>\n",
       "      <td>10001</td>\n",
       "      <td>JOSÉ LUIZ NOGUEIRA DE SOUSA</td>\n",
       "      <td>AP</td>\n",
       "      <td>PT</td>\n",
       "      <td>6</td>\n",
       "      <td>6</td>\n",
       "      <td>16600.0</td>\n",
       "      <td>2766.666667</td>\n",
       "      <td>NaN</td>\n",
       "      <td>...</td>\n",
       "      <td>14</td>\n",
       "      <td>14</td>\n",
       "      <td>16583.60</td>\n",
       "      <td>1184.542857</td>\n",
       "      <td>DEPUTADO FEDERAL</td>\n",
       "      <td>MASCULINO</td>\n",
       "      <td>ENSINO MÉDIO COMPLETO</td>\n",
       "      <td>CASADO(A)</td>\n",
       "      <td>VEREADOR</td>\n",
       "      <td>8579</td>\n",
       "    </tr>\n",
       "    <tr>\n",
       "      <th>1</th>\n",
       "      <td>2006</td>\n",
       "      <td>10002</td>\n",
       "      <td>LOIVA DE OLIVEIRA</td>\n",
       "      <td>RO</td>\n",
       "      <td>PT</td>\n",
       "      <td>13</td>\n",
       "      <td>13</td>\n",
       "      <td>22826.0</td>\n",
       "      <td>1755.846154</td>\n",
       "      <td>6625.0</td>\n",
       "      <td>...</td>\n",
       "      <td>24</td>\n",
       "      <td>23</td>\n",
       "      <td>20325.99</td>\n",
       "      <td>883.738696</td>\n",
       "      <td>DEPUTADO FEDERAL</td>\n",
       "      <td>FEMININO</td>\n",
       "      <td>SUPERIOR COMPLETO</td>\n",
       "      <td>SOLTEIRO(A)</td>\n",
       "      <td>SERVIDOR PÚBLICO ESTADUAL</td>\n",
       "      <td>2757</td>\n",
       "    </tr>\n",
       "  </tbody>\n",
       "</table>\n",
       "<p>2 rows × 23 columns</p>\n",
       "</div>"
      ],
      "text/plain": [
       "    ano  sequencial_candidato                         nome  uf partido  \\\n",
       "0  2006                 10001  JOSÉ LUIZ NOGUEIRA DE SOUSA  AP      PT   \n",
       "1  2006                 10002            LOIVA DE OLIVEIRA  RO      PT   \n",
       "\n",
       "   quantidade_doacoes  quantidade_doadores  total_receita  media_receita  \\\n",
       "0                   6                    6        16600.0    2766.666667   \n",
       "1                  13                   13        22826.0    1755.846154   \n",
       "\n",
       "   recursos_de_outros_candidatos/comites  ...  quantidade_despesas  \\\n",
       "0                                    NaN  ...                   14   \n",
       "1                                 6625.0  ...                   24   \n",
       "\n",
       "   quantidade_fornecedores  total_despesa  media_despesa             cargo  \\\n",
       "0                       14       16583.60    1184.542857  DEPUTADO FEDERAL   \n",
       "1                       23       20325.99     883.738696  DEPUTADO FEDERAL   \n",
       "\n",
       "        sexo                   grau estado_civil                   ocupacao  \\\n",
       "0  MASCULINO  ENSINO MÉDIO COMPLETO    CASADO(A)                   VEREADOR   \n",
       "1   FEMININO      SUPERIOR COMPLETO  SOLTEIRO(A)  SERVIDOR PÚBLICO ESTADUAL   \n",
       "\n",
       "  votos  \n",
       "0  8579  \n",
       "1  2757  \n",
       "\n",
       "[2 rows x 23 columns]"
      ]
     },
     "execution_count": 233,
     "metadata": {},
     "output_type": "execute_result"
    }
   ],
   "source": [
    "#importação dos dados\n",
    "dados_deputados = pd.read_csv(\"eleicoes_2006_a_2010.csv\")\n",
    "dados_deputados.head(2)"
   ]
  },
  {
   "cell_type": "code",
   "execution_count": 234,
   "id": "f5bfeda2",
   "metadata": {},
   "outputs": [
    {
     "data": {
      "text/html": [
       "<div>\n",
       "<style scoped>\n",
       "    .dataframe tbody tr th:only-of-type {\n",
       "        vertical-align: middle;\n",
       "    }\n",
       "\n",
       "    .dataframe tbody tr th {\n",
       "        vertical-align: top;\n",
       "    }\n",
       "\n",
       "    .dataframe thead th {\n",
       "        text-align: right;\n",
       "    }\n",
       "</style>\n",
       "<table border=\"1\" class=\"dataframe\">\n",
       "  <thead>\n",
       "    <tr style=\"text-align: right;\">\n",
       "      <th></th>\n",
       "      <th>ano</th>\n",
       "      <th>sq_candidato</th>\n",
       "      <th>nome_candidato</th>\n",
       "      <th>sigla_uf</th>\n",
       "      <th>sigla_partido</th>\n",
       "      <th>qtd_doacoes</th>\n",
       "      <th>qtd_doadores</th>\n",
       "      <th>total_receita</th>\n",
       "      <th>media_receita</th>\n",
       "      <th>recursos de outros candidatos/comitês</th>\n",
       "      <th>...</th>\n",
       "      <th>qtd_despesas</th>\n",
       "      <th>qtd_fornecedores</th>\n",
       "      <th>total_despesa</th>\n",
       "      <th>media_despesa</th>\n",
       "      <th>descricao_cargo</th>\n",
       "      <th>sexo</th>\n",
       "      <th>grau_instrucao</th>\n",
       "      <th>estado_civil</th>\n",
       "      <th>descricao_ocupacao</th>\n",
       "      <th>votos</th>\n",
       "    </tr>\n",
       "  </thead>\n",
       "  <tbody>\n",
       "    <tr>\n",
       "      <th>0</th>\n",
       "      <td>2014</td>\n",
       "      <td>10000000135</td>\n",
       "      <td>EMERSON DA SILVA SANTOS</td>\n",
       "      <td>AC</td>\n",
       "      <td>PSOL</td>\n",
       "      <td>3</td>\n",
       "      <td>3</td>\n",
       "      <td>1580.0</td>\n",
       "      <td>526.666667</td>\n",
       "      <td>NaN</td>\n",
       "      <td>...</td>\n",
       "      <td>3</td>\n",
       "      <td>3</td>\n",
       "      <td>1580.00</td>\n",
       "      <td>526.666667</td>\n",
       "      <td>DEPUTADO FEDERAL</td>\n",
       "      <td>MASCULINO</td>\n",
       "      <td>ENSINO MÉDIO COMPLETO</td>\n",
       "      <td>SOLTEIRO(A)</td>\n",
       "      <td>CORRETOR DE IMÓVEIS, SEGUROS, TÍTULOS E VALORES</td>\n",
       "      <td>37</td>\n",
       "    </tr>\n",
       "    <tr>\n",
       "      <th>1</th>\n",
       "      <td>2014</td>\n",
       "      <td>10000000142</td>\n",
       "      <td>GERALDO SILVA DOS SANTOS</td>\n",
       "      <td>AC</td>\n",
       "      <td>PSOL</td>\n",
       "      <td>5</td>\n",
       "      <td>5</td>\n",
       "      <td>3180.0</td>\n",
       "      <td>636.000000</td>\n",
       "      <td>NaN</td>\n",
       "      <td>...</td>\n",
       "      <td>6</td>\n",
       "      <td>5</td>\n",
       "      <td>3130.02</td>\n",
       "      <td>626.004000</td>\n",
       "      <td>DEPUTADO FEDERAL</td>\n",
       "      <td>MASCULINO</td>\n",
       "      <td>SUPERIOR COMPLETO</td>\n",
       "      <td>SOLTEIRO(A)</td>\n",
       "      <td>VIGILANTE</td>\n",
       "      <td>383</td>\n",
       "    </tr>\n",
       "  </tbody>\n",
       "</table>\n",
       "<p>2 rows × 23 columns</p>\n",
       "</div>"
      ],
      "text/plain": [
       "    ano  sq_candidato            nome_candidato sigla_uf sigla_partido  \\\n",
       "0  2014   10000000135   EMERSON DA SILVA SANTOS       AC          PSOL   \n",
       "1  2014   10000000142  GERALDO SILVA DOS SANTOS       AC          PSOL   \n",
       "\n",
       "   qtd_doacoes  qtd_doadores  total_receita  media_receita  \\\n",
       "0            3             3         1580.0     526.666667   \n",
       "1            5             5         3180.0     636.000000   \n",
       "\n",
       "   recursos de outros candidatos/comitês  ...  qtd_despesas  qtd_fornecedores  \\\n",
       "0                                    NaN  ...             3                 3   \n",
       "1                                    NaN  ...             6                 5   \n",
       "\n",
       "   total_despesa  media_despesa   descricao_cargo       sexo  \\\n",
       "0        1580.00     526.666667  DEPUTADO FEDERAL  MASCULINO   \n",
       "1        3130.02     626.004000  DEPUTADO FEDERAL  MASCULINO   \n",
       "\n",
       "          grau_instrucao estado_civil  \\\n",
       "0  ENSINO MÉDIO COMPLETO  SOLTEIRO(A)   \n",
       "1      SUPERIOR COMPLETO  SOLTEIRO(A)   \n",
       "\n",
       "                                descricao_ocupacao votos  \n",
       "0  CORRETOR DE IMÓVEIS, SEGUROS, TÍTULOS E VALORES    37  \n",
       "1                                        VIGILANTE   383  \n",
       "\n",
       "[2 rows x 23 columns]"
      ]
     },
     "execution_count": 234,
     "metadata": {},
     "output_type": "execute_result"
    }
   ],
   "source": [
    "dados_deputados_2014 = pd.read_csv(\"eleicoes_2014.csv\")\n",
    "dados_deputados_2014.head(2)"
   ]
  },
  {
   "cell_type": "markdown",
   "id": "5b612239",
   "metadata": {},
   "source": [
    "# Tratamento dos dados\n",
    "Foram identificadas as colunas que possuem valores NaN para substituição dos valores para que a linha não seja descartada ocasionando a perca de dados."
   ]
  },
  {
   "cell_type": "code",
   "execution_count": 235,
   "id": "e53ce60b",
   "metadata": {
    "scrolled": false
   },
   "outputs": [
    {
     "name": "stdout",
     "output_type": "stream",
     "text": [
      "ano                                         0\n",
      "sq_candidato                                0\n",
      "nome_candidato                              0\n",
      "sigla_uf                                    0\n",
      "sigla_partido                               0\n",
      "qtd_doacoes                                 0\n",
      "qtd_doadores                                0\n",
      "total_receita                               0\n",
      "media_receita                               0\n",
      "recursos de outros candidatos/comitês    1745\n",
      "recursos de pessoas físicas              1209\n",
      "recursos de pessoas jurídicas            3222\n",
      "recursos próprios                        2076\n",
      "qtd_despesas                                0\n",
      "qtd_fornecedores                            0\n",
      "total_despesa                               0\n",
      "media_despesa                               0\n",
      "descricao_cargo                             0\n",
      "sexo                                        0\n",
      "grau_instrucao                              0\n",
      "estado_civil                                0\n",
      "descricao_ocupacao                          0\n",
      "votos                                       0\n",
      "dtype: int64\n"
     ]
    }
   ],
   "source": [
    "#tratar dados faltantes\n",
    "faltantes = dados_deputados.isnull().sum()\n",
    "faltantes2 = dados_deputados_2014.isnull().sum()\n",
    "print(faltantes2)"
   ]
  },
  {
   "cell_type": "code",
   "execution_count": 236,
   "id": "e696859f",
   "metadata": {},
   "outputs": [],
   "source": [
    "#substituindo dados Nan por média da coluna\n",
    "dados_deputados['total_receita'].fillna(dados_deputados['total_receita'].mean(), inplace = True)\n",
    "dados_deputados['media_receita'].fillna(dados_deputados['media_receita'].mean(), inplace = True)\n",
    "dados_deputados['recursos_de_outros_candidatos/comites'].fillna(dados_deputados['recursos_de_outros_candidatos/comites'].mean(), inplace = True)\n",
    "dados_deputados['recursos_de_pessoas_fisicas'].fillna(dados_deputados['recursos_de_pessoas_fisicas'].mean(), inplace = True)\n",
    "dados_deputados['recursos_de_pessoas_juridicas'].fillna(dados_deputados['recursos_de_pessoas_juridicas'].mean(), inplace = True)\n",
    "dados_deputados['recursos_proprios'].fillna(dados_deputados['recursos_proprios'].mean(), inplace = True)"
   ]
  },
  {
   "cell_type": "code",
   "execution_count": 237,
   "id": "d0cca498",
   "metadata": {},
   "outputs": [],
   "source": [
    "dados_deputados_2014['recursos de outros candidatos/comitês'].fillna(dados_deputados_2014['recursos de outros candidatos/comitês'].mean(), inplace = True)\n",
    "dados_deputados_2014['recursos de pessoas físicas'].fillna(dados_deputados_2014['recursos de pessoas físicas'].mean(), inplace = True)\n",
    "dados_deputados_2014['recursos de pessoas jurídicas'].fillna(dados_deputados_2014['recursos de pessoas jurídicas'].mean(), inplace = True)\n",
    "dados_deputados_2014['recursos próprios'].fillna(dados_deputados_2014['recursos próprios'].mean(), inplace = True)"
   ]
  },
  {
   "cell_type": "code",
   "execution_count": 238,
   "id": "6f6deeda",
   "metadata": {},
   "outputs": [],
   "source": [
    "#dados_deputados.info()\n",
    "\n",
    "#dados_deputados_2014.head(2)"
   ]
  },
  {
   "cell_type": "code",
   "execution_count": 239,
   "id": "7ecd759d",
   "metadata": {},
   "outputs": [],
   "source": [
    "#normalização dos dados\n",
    "normalizador = StandardScaler()\n",
    "\n",
    "dados_deputados[['quantidade_doacoes', 'quantidade_doadores', 'total_receita', 'media_receita', 'recursos_de_outros_candidatos/comites', 'recursos_de_pessoas_fisicas', 'recursos_de_pessoas_juridicas', 'recursos_proprios', 'quantidade_despesas', 'quantidade_fornecedores', 'total_despesa', 'media_despesa']] = normalizador.fit_transform(dados_deputados[['quantidade_doacoes', 'quantidade_doadores', 'total_receita', 'media_receita', 'recursos_de_outros_candidatos/comites', 'recursos_de_pessoas_fisicas', 'recursos_de_pessoas_juridicas', 'recursos_proprios', 'quantidade_despesas', 'quantidade_fornecedores', 'total_despesa','media_despesa']])\n"
   ]
  },
  {
   "cell_type": "code",
   "execution_count": 240,
   "id": "14b01f8e",
   "metadata": {},
   "outputs": [],
   "source": [
    "#normalização dos dados de 2014\n",
    "normalizador_2014 = StandardScaler()\n",
    "\n",
    "dados_deputados_2014[['qtd_doacoes', 'qtd_doadores', 'total_receita', 'media_receita', 'recursos de outros candidatos/comitês', 'recursos de pessoas físicas', 'recursos de pessoas jurídicas', 'recursos próprios', 'qtd_despesas', 'qtd_fornecedores', 'total_despesa', 'media_despesa']] = normalizador_2014.fit_transform(dados_deputados_2014[['qtd_doacoes', 'qtd_doadores', 'total_receita', 'media_receita', 'recursos de outros candidatos/comitês', 'recursos de pessoas físicas', 'recursos de pessoas jurídicas', 'recursos próprios', 'qtd_despesas', 'qtd_fornecedores', 'total_despesa', 'media_despesa']])"
   ]
  },
  {
   "cell_type": "code",
   "execution_count": 241,
   "id": "42032101",
   "metadata": {},
   "outputs": [
    {
     "data": {
      "text/html": [
       "<div>\n",
       "<style scoped>\n",
       "    .dataframe tbody tr th:only-of-type {\n",
       "        vertical-align: middle;\n",
       "    }\n",
       "\n",
       "    .dataframe tbody tr th {\n",
       "        vertical-align: top;\n",
       "    }\n",
       "\n",
       "    .dataframe thead th {\n",
       "        text-align: right;\n",
       "    }\n",
       "</style>\n",
       "<table border=\"1\" class=\"dataframe\">\n",
       "  <thead>\n",
       "    <tr style=\"text-align: right;\">\n",
       "      <th></th>\n",
       "      <th>ano</th>\n",
       "      <th>sq_candidato</th>\n",
       "      <th>nome_candidato</th>\n",
       "      <th>sigla_uf</th>\n",
       "      <th>sigla_partido</th>\n",
       "      <th>qtd_doacoes</th>\n",
       "      <th>qtd_doadores</th>\n",
       "      <th>total_receita</th>\n",
       "      <th>media_receita</th>\n",
       "      <th>recursos de outros candidatos/comitês</th>\n",
       "      <th>...</th>\n",
       "      <th>qtd_despesas</th>\n",
       "      <th>qtd_fornecedores</th>\n",
       "      <th>total_despesa</th>\n",
       "      <th>media_despesa</th>\n",
       "      <th>descricao_cargo</th>\n",
       "      <th>sexo</th>\n",
       "      <th>grau_instrucao</th>\n",
       "      <th>estado_civil</th>\n",
       "      <th>descricao_ocupacao</th>\n",
       "      <th>votos</th>\n",
       "    </tr>\n",
       "  </thead>\n",
       "  <tbody>\n",
       "    <tr>\n",
       "      <th>0</th>\n",
       "      <td>2014</td>\n",
       "      <td>10000000135</td>\n",
       "      <td>EMERSON DA SILVA SANTOS</td>\n",
       "      <td>AC</td>\n",
       "      <td>PSOL</td>\n",
       "      <td>-0.436410</td>\n",
       "      <td>-0.445564</td>\n",
       "      <td>-0.372149</td>\n",
       "      <td>-0.393603</td>\n",
       "      <td>7.944267e-17</td>\n",
       "      <td>...</td>\n",
       "      <td>-0.329191</td>\n",
       "      <td>-0.328385</td>\n",
       "      <td>-0.367700</td>\n",
       "      <td>-0.436052</td>\n",
       "      <td>DEPUTADO FEDERAL</td>\n",
       "      <td>MASCULINO</td>\n",
       "      <td>ENSINO MÉDIO COMPLETO</td>\n",
       "      <td>SOLTEIRO(A)</td>\n",
       "      <td>CORRETOR DE IMÓVEIS, SEGUROS, TÍTULOS E VALORES</td>\n",
       "      <td>37</td>\n",
       "    </tr>\n",
       "    <tr>\n",
       "      <th>1</th>\n",
       "      <td>2014</td>\n",
       "      <td>10000000142</td>\n",
       "      <td>GERALDO SILVA DOS SANTOS</td>\n",
       "      <td>AC</td>\n",
       "      <td>PSOL</td>\n",
       "      <td>-0.396391</td>\n",
       "      <td>-0.396645</td>\n",
       "      <td>-0.369157</td>\n",
       "      <td>-0.385930</td>\n",
       "      <td>7.944267e-17</td>\n",
       "      <td>...</td>\n",
       "      <td>-0.322390</td>\n",
       "      <td>-0.322629</td>\n",
       "      <td>-0.364901</td>\n",
       "      <td>-0.383142</td>\n",
       "      <td>DEPUTADO FEDERAL</td>\n",
       "      <td>MASCULINO</td>\n",
       "      <td>SUPERIOR COMPLETO</td>\n",
       "      <td>SOLTEIRO(A)</td>\n",
       "      <td>VIGILANTE</td>\n",
       "      <td>383</td>\n",
       "    </tr>\n",
       "  </tbody>\n",
       "</table>\n",
       "<p>2 rows × 23 columns</p>\n",
       "</div>"
      ],
      "text/plain": [
       "    ano  sq_candidato            nome_candidato sigla_uf sigla_partido  \\\n",
       "0  2014   10000000135   EMERSON DA SILVA SANTOS       AC          PSOL   \n",
       "1  2014   10000000142  GERALDO SILVA DOS SANTOS       AC          PSOL   \n",
       "\n",
       "   qtd_doacoes  qtd_doadores  total_receita  media_receita  \\\n",
       "0    -0.436410     -0.445564      -0.372149      -0.393603   \n",
       "1    -0.396391     -0.396645      -0.369157      -0.385930   \n",
       "\n",
       "   recursos de outros candidatos/comitês  ...  qtd_despesas  qtd_fornecedores  \\\n",
       "0                           7.944267e-17  ...     -0.329191         -0.328385   \n",
       "1                           7.944267e-17  ...     -0.322390         -0.322629   \n",
       "\n",
       "   total_despesa  media_despesa   descricao_cargo       sexo  \\\n",
       "0      -0.367700      -0.436052  DEPUTADO FEDERAL  MASCULINO   \n",
       "1      -0.364901      -0.383142  DEPUTADO FEDERAL  MASCULINO   \n",
       "\n",
       "          grau_instrucao estado_civil  \\\n",
       "0  ENSINO MÉDIO COMPLETO  SOLTEIRO(A)   \n",
       "1      SUPERIOR COMPLETO  SOLTEIRO(A)   \n",
       "\n",
       "                                descricao_ocupacao votos  \n",
       "0  CORRETOR DE IMÓVEIS, SEGUROS, TÍTULOS E VALORES    37  \n",
       "1                                        VIGILANTE   383  \n",
       "\n",
       "[2 rows x 23 columns]"
      ]
     },
     "execution_count": 241,
     "metadata": {},
     "output_type": "execute_result"
    }
   ],
   "source": [
    "dados_deputados_2014.head(2)"
   ]
  },
  {
   "cell_type": "code",
   "execution_count": 242,
   "id": "901cee10",
   "metadata": {},
   "outputs": [
    {
     "data": {
      "image/png": "[encoded data removed]",
      "text/plain": [
       "<Figure size 640x480 with 12 Axes>"
      ]
     },
     "metadata": {},
     "output_type": "display_data"
    }
   ],
   "source": [
    "#valores de X e Y\n",
    "\n",
    "dados_selecao = pd.DataFrame(dados_deputados, columns=['ano','quantidade_doacoes', 'quantidade_doadores', 'total_receita', 'media_receita',\\\n",
    "                 'recursos_de_outros_candidatos/comites', 'recursos_de_pessoas_fisicas', 'recursos_de_pessoas_juridicas', \\\n",
    "                'recursos_proprios', 'quantidade_despesas', 'quantidade_fornecedores', 'total_despesa', \\\n",
    "                 'media_despesa', 'votos'])\n",
    "dados_selecao.head()\n",
    "\n",
    "\n",
    "X = dados_selecao.drop('votos', axis=1).values\n",
    "Y = dados_selecao['votos'].values\n",
    "\n",
    "fig, ax = plt.subplots(4, 3)\n",
    "ax[0,0].scatter(X[:,0],Y);\n",
    "ax[0,0].set_xlabel('quantidade_doacoes');\n",
    "ax[0,0].set_ylabel('votos');\n",
    "\n",
    "ax[0,1].scatter(X[:,1],Y);\n",
    "ax[0,1].set_xlabel('quantidade_doadores');\n",
    "ax[0,1].set_ylabel('votos');\n",
    "\n",
    "ax[0,2].scatter(X[:,2],Y);\n",
    "ax[0,2].set_xlabel('total_receita');\n",
    "ax[0,2].set_ylabel('votos');\n",
    "\n",
    "ax[1,0].scatter(X[:,3],Y);\n",
    "ax[1,0].set_xlabel('media_receita');\n",
    "ax[1,0].set_ylabel('votos');\n",
    "\n",
    "ax[1,1].scatter(X[:,4],Y);\n",
    "ax[1,1].set_xlabel('recursos_de_outros_candidatos/comites');\n",
    "ax[1,1].set_ylabel('votos');\n",
    "\n",
    "ax[1,2].scatter(X[:,5],Y);\n",
    "ax[1,2].set_xlabel('recursos_de_pessoas_fisicas');\n",
    "ax[1,2].set_ylabel('votos');\n",
    "\n",
    "ax[2,0].scatter(X[:,6],Y);\n",
    "ax[2,0].set_xlabel('recursos_de_pessoas_juridicas');\n",
    "ax[2,0].set_ylabel('votos');\n",
    "\n",
    "ax[2,1].scatter(X[:,7],Y);\n",
    "ax[2,1].set_xlabel('recursos_proprios');\n",
    "ax[2,1].set_ylabel('votos');\n",
    "\n",
    "ax[2,2].scatter(X[:,8],Y);\n",
    "ax[2,2].set_xlabel('quantidade_despesas');\n",
    "ax[2,2].set_ylabel('votos');\n",
    "\n",
    "ax[3,0].scatter(X[:,9],Y);\n",
    "ax[3,0].set_xlabel('quantidade_fornecedores');\n",
    "ax[3,0].set_ylabel('votos');\n",
    "\n",
    "ax[3,1].scatter(X[:,10],Y);\n",
    "ax[3,1].set_xlabel('total_despesa');\n",
    "ax[3,1].set_ylabel('votos');\n",
    "\n",
    "ax[3,2].scatter(X[:,11],Y);\n",
    "ax[3,2].set_xlabel('media_despesa');\n",
    "ax[3,2].set_ylabel('votos');\n",
    "\n",
    "plt.tight_layout();"
   ]
  },
  {
   "cell_type": "code",
   "execution_count": 243,
   "id": "48a10fbd",
   "metadata": {},
   "outputs": [
    {
     "data": {
      "text/html": [
       "<div>\n",
       "<style scoped>\n",
       "    .dataframe tbody tr th:only-of-type {\n",
       "        vertical-align: middle;\n",
       "    }\n",
       "\n",
       "    .dataframe tbody tr th {\n",
       "        vertical-align: top;\n",
       "    }\n",
       "\n",
       "    .dataframe thead th {\n",
       "        text-align: right;\n",
       "    }\n",
       "</style>\n",
       "<table border=\"1\" class=\"dataframe\">\n",
       "  <thead>\n",
       "    <tr style=\"text-align: right;\">\n",
       "      <th></th>\n",
       "      <th>ano</th>\n",
       "      <th>qtd_doacoes</th>\n",
       "      <th>qtd_doadores</th>\n",
       "      <th>total_receita</th>\n",
       "      <th>media_receita</th>\n",
       "      <th>recursos de outros candidatos/comitês</th>\n",
       "      <th>recursos de pessoas físicas</th>\n",
       "      <th>recursos de pessoas jurídicas</th>\n",
       "      <th>recursos próprios</th>\n",
       "      <th>qtd_despesas</th>\n",
       "      <th>qtd_fornecedores</th>\n",
       "      <th>total_despesa</th>\n",
       "      <th>media_despesa</th>\n",
       "      <th>votos</th>\n",
       "    </tr>\n",
       "  </thead>\n",
       "  <tbody>\n",
       "    <tr>\n",
       "      <th>0</th>\n",
       "      <td>2014</td>\n",
       "      <td>-0.436410</td>\n",
       "      <td>-0.445564</td>\n",
       "      <td>-0.372149</td>\n",
       "      <td>-0.393603</td>\n",
       "      <td>7.944267e-17</td>\n",
       "      <td>-0.417037</td>\n",
       "      <td>0.000000</td>\n",
       "      <td>-5.438875e-17</td>\n",
       "      <td>-0.329191</td>\n",
       "      <td>-0.328385</td>\n",
       "      <td>-0.367700</td>\n",
       "      <td>-0.436052</td>\n",
       "      <td>37</td>\n",
       "    </tr>\n",
       "    <tr>\n",
       "      <th>1</th>\n",
       "      <td>2014</td>\n",
       "      <td>-0.396391</td>\n",
       "      <td>-0.396645</td>\n",
       "      <td>-0.369157</td>\n",
       "      <td>-0.385930</td>\n",
       "      <td>7.944267e-17</td>\n",
       "      <td>-0.400078</td>\n",
       "      <td>0.000000</td>\n",
       "      <td>-5.438875e-17</td>\n",
       "      <td>-0.322390</td>\n",
       "      <td>-0.322629</td>\n",
       "      <td>-0.364901</td>\n",
       "      <td>-0.383142</td>\n",
       "      <td>383</td>\n",
       "    </tr>\n",
       "    <tr>\n",
       "      <th>2</th>\n",
       "      <td>2014</td>\n",
       "      <td>0.303954</td>\n",
       "      <td>0.410510</td>\n",
       "      <td>0.248269</td>\n",
       "      <td>0.184985</td>\n",
       "      <td>-3.447678e-01</td>\n",
       "      <td>0.263433</td>\n",
       "      <td>-0.197507</td>\n",
       "      <td>5.339987e-01</td>\n",
       "      <td>-0.007274</td>\n",
       "      <td>0.063068</td>\n",
       "      <td>0.219829</td>\n",
       "      <td>0.535947</td>\n",
       "      <td>26448</td>\n",
       "    </tr>\n",
       "    <tr>\n",
       "      <th>3</th>\n",
       "      <td>2014</td>\n",
       "      <td>0.083846</td>\n",
       "      <td>0.190377</td>\n",
       "      <td>-0.081985</td>\n",
       "      <td>-0.051298</td>\n",
       "      <td>6.139286e-02</td>\n",
       "      <td>0.296120</td>\n",
       "      <td>-0.744527</td>\n",
       "      <td>-2.747123e-01</td>\n",
       "      <td>-0.027677</td>\n",
       "      <td>0.011258</td>\n",
       "      <td>0.064762</td>\n",
       "      <td>0.344354</td>\n",
       "      <td>9896</td>\n",
       "    </tr>\n",
       "    <tr>\n",
       "      <th>4</th>\n",
       "      <td>2014</td>\n",
       "      <td>2.705137</td>\n",
       "      <td>3.052109</td>\n",
       "      <td>0.954866</td>\n",
       "      <td>-0.088752</td>\n",
       "      <td>-2.565797e-01</td>\n",
       "      <td>3.245770</td>\n",
       "      <td>0.292327</td>\n",
       "      <td>2.574188e-01</td>\n",
       "      <td>0.838324</td>\n",
       "      <td>0.681909</td>\n",
       "      <td>0.654269</td>\n",
       "      <td>0.137141</td>\n",
       "      <td>20876</td>\n",
       "    </tr>\n",
       "  </tbody>\n",
       "</table>\n",
       "</div>"
      ],
      "text/plain": [
       "    ano  qtd_doacoes  qtd_doadores  total_receita  media_receita  \\\n",
       "0  2014    -0.436410     -0.445564      -0.372149      -0.393603   \n",
       "1  2014    -0.396391     -0.396645      -0.369157      -0.385930   \n",
       "2  2014     0.303954      0.410510       0.248269       0.184985   \n",
       "3  2014     0.083846      0.190377      -0.081985      -0.051298   \n",
       "4  2014     2.705137      3.052109       0.954866      -0.088752   \n",
       "\n",
       "   recursos de outros candidatos/comitês  recursos de pessoas físicas  \\\n",
       "0                           7.944267e-17                    -0.417037   \n",
       "1                           7.944267e-17                    -0.400078   \n",
       "2                          -3.447678e-01                     0.263433   \n",
       "3                           6.139286e-02                     0.296120   \n",
       "4                          -2.565797e-01                     3.245770   \n",
       "\n",
       "   recursos de pessoas jurídicas  recursos próprios  qtd_despesas  \\\n",
       "0                       0.000000      -5.438875e-17     -0.329191   \n",
       "1                       0.000000      -5.438875e-17     -0.322390   \n",
       "2                      -0.197507       5.339987e-01     -0.007274   \n",
       "3                      -0.744527      -2.747123e-01     -0.027677   \n",
       "4                       0.292327       2.574188e-01      0.838324   \n",
       "\n",
       "   qtd_fornecedores  total_despesa  media_despesa  votos  \n",
       "0         -0.328385      -0.367700      -0.436052     37  \n",
       "1         -0.322629      -0.364901      -0.383142    383  \n",
       "2          0.063068       0.219829       0.535947  26448  \n",
       "3          0.011258       0.064762       0.344354   9896  \n",
       "4          0.681909       0.654269       0.137141  20876  "
      ]
     },
     "execution_count": 243,
     "metadata": {},
     "output_type": "execute_result"
    }
   ],
   "source": [
    "dados_selecao_2014 = pd.DataFrame(dados_deputados_2014, columns=['ano','qtd_doacoes', 'qtd_doadores', 'total_receita', 'media_receita',\\\n",
    "                 'recursos de outros candidatos/comitês', 'recursos de pessoas físicas', 'recursos de pessoas jurídicas', \\\n",
    "                'recursos próprios', 'qtd_despesas', 'qtd_fornecedores', 'total_despesa', \\\n",
    "                 'media_despesa', 'votos'])\n",
    "dados_selecao_2014.head()"
   ]
  },
  {
   "cell_type": "code",
   "execution_count": 244,
   "id": "f417267e",
   "metadata": {},
   "outputs": [],
   "source": [
    "#dados de seleção de 2014\n",
    "xdados_selecao_2014 = dados_selecao_2014.drop('votos', axis=1).values\n",
    "ydados_selecao_2014 = dados_selecao_2014['votos'].values"
   ]
  },
  {
   "cell_type": "code",
   "execution_count": 245,
   "id": "e92032a7",
   "metadata": {},
   "outputs": [],
   "source": [
    "#dados de treino e teste\n",
    "dados_selecao_treino = dados_selecao.loc[dados_selecao['ano'] == 2006]\n",
    "dados_selecao_teste = dados_selecao.loc[dados_selecao['ano'] == 2010]\n"
   ]
  },
  {
   "cell_type": "code",
   "execution_count": 246,
   "id": "e445406d",
   "metadata": {},
   "outputs": [],
   "source": [
    "#dados seleção 2006 + 2010\n",
    "dados_selecao_2006_2010 = dados_selecao.drop('votos', axis=1)\n",
    "ydados_selecao_2006_2010 = dados_selecao['votos'].values"
   ]
  },
  {
   "cell_type": "code",
   "execution_count": 247,
   "id": "6f5280e7",
   "metadata": {},
   "outputs": [],
   "source": [
    "xTreino = dados_selecao_treino.drop('votos', axis=1).values\n",
    "yTreino = dados_selecao_treino['votos'].values\n",
    "\n",
    "xTeste = dados_selecao_teste.drop('votos', axis=1).values\n",
    "yTeste = dados_selecao_teste['votos'].values"
   ]
  },
  {
   "cell_type": "code",
   "execution_count": null,
   "id": "b69ed147",
   "metadata": {},
   "outputs": [],
   "source": []
  },
  {
   "cell_type": "markdown",
   "id": "8f0474c9",
   "metadata": {},
   "source": [
    "# Modelo Ridge"
   ]
  },
  {
   "cell_type": "code",
   "execution_count": 248,
   "id": "b98955ab",
   "metadata": {},
   "outputs": [
    {
     "data": {
      "text/plain": [
       "0.5214744752992242"
      ]
     },
     "execution_count": 248,
     "metadata": {},
     "output_type": "execute_result"
    }
   ],
   "source": [
    "#modelo Ridge\n",
    "modelo_ridge = Ridge(alpha=0.5)\n",
    "modelo_ridge.fit(xTreino,yTreino)\n",
    "score = modelo_ridge.score(xTreino,yTreino)\n",
    "score"
   ]
  },
  {
   "cell_type": "code",
   "execution_count": 249,
   "id": "9f215307",
   "metadata": {},
   "outputs": [],
   "source": [
    "alphas = [0.005, 0.05, 0.1, 0.3, 1, 3, 5, 10, 15, 30, 50, 60, 70]\n",
    "scores = []\n",
    "rmses = []"
   ]
  },
  {
   "cell_type": "code",
   "execution_count": 250,
   "id": "9c7a15c2",
   "metadata": {},
   "outputs": [],
   "source": [
    "for i in range(len(alphas)):\n",
    "    modelo_ridge2 =Ridge(alpha=alphas[i])\n",
    "    modelo_ridge2.fit(xTreino,yTreino)\n",
    "    score = modelo_ridge2.score(xTreino,yTreino)\n",
    "    scores.append(score)\n",
    "    #rmse = np.sqrt(mean_squared_error(yTeste, y_pred))\n",
    "    #rmses.append(rmse)"
   ]
  },
  {
   "cell_type": "code",
   "execution_count": 251,
   "id": "9d256f42",
   "metadata": {},
   "outputs": [
    {
     "data": {
      "image/png": "[encoded data removed]",
      "text/plain": [
       "<Figure size 640x480 with 1 Axes>"
      ]
     },
     "metadata": {},
     "output_type": "display_data"
    }
   ],
   "source": [
    "#plt.scatter(alphas,rmses);\n",
    "#plt.xlabel('alphas');\n",
    "#plt.ylabel('rmses');\n",
    "\n",
    "plt.scatter(alphas,scores);\n",
    "plt.xlabel('alphas');\n",
    "plt.ylabel('scores');\n",
    "#plt.scale('log');\n",
    "#plt.xlim([le-5,10]);\n",
    "#plt.ylim([0.8,0.822]);\n"
   ]
  },
  {
   "cell_type": "code",
   "execution_count": 252,
   "id": "8688fb00",
   "metadata": {},
   "outputs": [
    {
     "data": {
      "text/plain": [
       "61270.77128852481"
      ]
     },
     "execution_count": 252,
     "metadata": {},
     "output_type": "execute_result"
    }
   ],
   "source": [
    "modelo_ridge_final = Ridge(alpha=0.005)\n",
    "modelo_ridge_final.fit(xTreino,yTreino)\n",
    "\n",
    "predict_ridge = modelo_ridge_final.predict(xTeste)\n",
    "\n",
    "\n",
    "\n",
    "residuo = yTeste - predict_ridge\n",
    "np.sqrt(mean_squared_error(yTeste, predict_ridge))\n"
   ]
  },
  {
   "cell_type": "markdown",
   "id": "2eb695af",
   "metadata": {},
   "source": [
    "### Validação Cruzada do Modelo Ridge\n",
    "Não foi necessário a alteração do número de iterações para que o modelo convergir"
   ]
  },
  {
   "cell_type": "code",
   "execution_count": 253,
   "id": "871a2427",
   "metadata": {},
   "outputs": [
    {
     "data": {
      "text/plain": [
       "45854.175496979326"
      ]
     },
     "execution_count": 253,
     "metadata": {},
     "output_type": "execute_result"
    }
   ],
   "source": [
    "validacao_cruzada_ridge = cross_val_predict(modelo_ridge_final, X, Y, cv=10)\n",
    "np.sqrt(mean_squared_error(Y, validacao_cruzada_ridge))"
   ]
  },
  {
   "cell_type": "code",
   "execution_count": 254,
   "id": "457a466e",
   "metadata": {},
   "outputs": [
    {
     "data": {
      "image/png": "[encoded data removed]",
      "text/plain": [
       "<Figure size 640x480 with 1 Axes>"
      ]
     },
     "metadata": {},
     "output_type": "display_data"
    }
   ],
   "source": [
    "plt.scatter(predict_ridge,residuo);\n",
    "plt.title(\"Resíduo x predições Ridge\")\n",
    "plt.xlabel('Preds');\n",
    "plt.ylabel('Residuals');"
   ]
  },
  {
   "cell_type": "code",
   "execution_count": 255,
   "id": "27fd9a28",
   "metadata": {},
   "outputs": [
    {
     "data": {
      "text/plain": [
       "36823.13284891955"
      ]
     },
     "execution_count": 255,
     "metadata": {},
     "output_type": "execute_result"
    }
   ],
   "source": [
    "#TREINANDO MODELO COM DADOS 2006 + 2010\n",
    "modelo_ridge_final.fit(dados_selecao_2006_2010,ydados_selecao_2006_2010)\n",
    "predict_ridgeGeral = modelo_ridge_final.predict(dados_selecao_2006_2010)\n",
    "\n",
    "np.sqrt(mean_squared_error(ydados_selecao_2006_2010, predict_ridgeGeral))"
   ]
  },
  {
   "cell_type": "code",
   "execution_count": 256,
   "id": "4eaca998",
   "metadata": {},
   "outputs": [
    {
     "name": "stderr",
     "output_type": "stream",
     "text": [
      "C:\\Users\\admin\\AppData\\Local\\Programs\\Python\\Python310\\lib\\site-packages\\sklearn\\base.py:450: UserWarning: X does not have valid feature names, but Ridge was fitted with feature names\n",
      "  warnings.warn(\n"
     ]
    },
    {
     "data": {
      "text/plain": [
       "38715.10207022298"
      ]
     },
     "execution_count": 256,
     "metadata": {},
     "output_type": "execute_result"
    }
   ],
   "source": [
    "#aplicando modelo aos dados de 2014\n",
    "predict_ridgeGeral = modelo_ridge_final.predict(xdados_selecao_2014)\n",
    "\n",
    "np.sqrt(mean_squared_error(ydados_selecao_2014, predict_ridgeGeral))"
   ]
  },
  {
   "cell_type": "markdown",
   "id": "4be68098",
   "metadata": {},
   "source": [
    "# Modelo Lasso"
   ]
  },
  {
   "cell_type": "code",
   "execution_count": 257,
   "id": "ba3caed1",
   "metadata": {},
   "outputs": [
    {
     "data": {
      "text/plain": [
       "0.5214802970433914"
      ]
     },
     "execution_count": 257,
     "metadata": {},
     "output_type": "execute_result"
    }
   ],
   "source": [
    "#Regressão lasso\n",
    "modelo_lasso = Lasso(alpha=0.5, max_iter=3000)\n",
    "modelo_lasso.fit(xTreino,yTreino)\n",
    "score = modelo_lasso.score(xTreino,yTreino)\n",
    "score"
   ]
  },
  {
   "cell_type": "code",
   "execution_count": 258,
   "id": "03654ecd",
   "metadata": {},
   "outputs": [],
   "source": [
    "alphas = [0.05, 0.5, 0.1, 0.3, 1, 3, 5, 10, 15, 30, 50, 60, 70]\n",
    "scoresLasso = []"
   ]
  },
  {
   "cell_type": "code",
   "execution_count": 259,
   "id": "9faae01c",
   "metadata": {},
   "outputs": [
    {
     "name": "stderr",
     "output_type": "stream",
     "text": [
      "C:\\Users\\admin\\AppData\\Local\\Programs\\Python\\Python310\\lib\\site-packages\\sklearn\\linear_model\\_coordinate_descent.py:648: ConvergenceWarning: Objective did not converge. You might want to increase the number of iterations, check the scale of the features or consider increasing regularisation. Duality gap: 6.161e+09, tolerance: 7.081e+08\n",
      "  model = cd_fast.enet_coordinate_descent(\n",
      "C:\\Users\\admin\\AppData\\Local\\Programs\\Python\\Python310\\lib\\site-packages\\sklearn\\linear_model\\_coordinate_descent.py:648: ConvergenceWarning: Objective did not converge. You might want to increase the number of iterations, check the scale of the features or consider increasing regularisation. Duality gap: 1.599e+09, tolerance: 7.081e+08\n",
      "  model = cd_fast.enet_coordinate_descent(\n"
     ]
    }
   ],
   "source": [
    "for i in range(len(alphas)):\n",
    "    modelo_lasso2 = Lasso(alpha=alphas[i])\n",
    "    modelo_lasso2.fit(xTreino,yTreino)\n",
    "    score = modelo_lasso2.score(xTreino,yTreino)\n",
    "    scoresLasso.append(score)"
   ]
  },
  {
   "cell_type": "code",
   "execution_count": 260,
   "id": "26991581",
   "metadata": {},
   "outputs": [
    {
     "data": {
      "image/png": "[encoded data removed]",
      "text/plain": [
       "<Figure size 640x480 with 1 Axes>"
      ]
     },
     "metadata": {},
     "output_type": "display_data"
    }
   ],
   "source": [
    "plt.scatter(alphas,scoresLasso);\n",
    "plt.xlabel('alphas');\n",
    "plt.ylabel('scores');"
   ]
  },
  {
   "cell_type": "code",
   "execution_count": 261,
   "id": "7b7435da",
   "metadata": {},
   "outputs": [
    {
     "data": {
      "text/plain": [
       "61292.719660467745"
      ]
     },
     "execution_count": 261,
     "metadata": {},
     "output_type": "execute_result"
    }
   ],
   "source": [
    "modelo_lasso_final = Lasso(alpha=0.5, max_iter=3000)\n",
    "modelo_lasso_final.fit(xTreino,yTreino)\n",
    "predict_lasso = modelo_lasso_final.predict(xTeste)\n",
    "\n",
    "residual_lasso = yTeste - predict_lasso\n",
    "\n",
    "np.sqrt(mean_squared_error(yTeste, predict_lasso))"
   ]
  },
  {
   "cell_type": "markdown",
   "id": "3ecb2aa3",
   "metadata": {},
   "source": [
    "### Validação Cruzada do modelo Lasso\n",
    "Para que o modelo pudesse convergir o máximo de iterações foi definido em 3000 saindo do valor default de 1000 iderações"
   ]
  },
  {
   "cell_type": "code",
   "execution_count": 262,
   "id": "c1bd550c",
   "metadata": {},
   "outputs": [
    {
     "data": {
      "text/plain": [
       "45853.00005358085"
      ]
     },
     "execution_count": 262,
     "metadata": {},
     "output_type": "execute_result"
    }
   ],
   "source": [
    "validacao_cruzada_lasso = cross_val_predict(modelo_lasso_final, X, Y, cv=10)\n",
    "np.sqrt(mean_squared_error(Y, validacao_cruzada_lasso))"
   ]
  },
  {
   "cell_type": "code",
   "execution_count": 263,
   "id": "e3909b98",
   "metadata": {},
   "outputs": [
    {
     "data": {
      "image/png": "[encoded data removed]",
      "text/plain": [
       "<Figure size 640x480 with 1 Axes>"
      ]
     },
     "metadata": {},
     "output_type": "display_data"
    }
   ],
   "source": [
    "plt.scatter(predict_lasso,residual_lasso);\n",
    "plt.title(\"Resíduo x predições Lasso\")\n",
    "plt.xlabel('Preds');\n",
    "plt.ylabel('Residuals');"
   ]
  },
  {
   "cell_type": "code",
   "execution_count": 264,
   "id": "7af10d48",
   "metadata": {},
   "outputs": [
    {
     "data": {
      "text/plain": [
       "36823.13608873924"
      ]
     },
     "execution_count": 264,
     "metadata": {},
     "output_type": "execute_result"
    }
   ],
   "source": [
    "#TREINANDO MODELO COM DADOS 2006 + 2010\n",
    "modelo_lasso_final.fit(dados_selecao_2006_2010,ydados_selecao_2006_2010)\n",
    "predict_lasso_geral = modelo_lasso_final.predict(dados_selecao_2006_2010)\n",
    "\n",
    "np.sqrt(mean_squared_error(ydados_selecao_2006_2010, predict_lasso_geral))"
   ]
  },
  {
   "cell_type": "code",
   "execution_count": 265,
   "id": "08c93bc0",
   "metadata": {},
   "outputs": [
    {
     "name": "stderr",
     "output_type": "stream",
     "text": [
      "C:\\Users\\admin\\AppData\\Local\\Programs\\Python\\Python310\\lib\\site-packages\\sklearn\\base.py:450: UserWarning: X does not have valid feature names, but Lasso was fitted with feature names\n",
      "  warnings.warn(\n"
     ]
    },
    {
     "data": {
      "text/plain": [
       "38713.729274649035"
      ]
     },
     "execution_count": 265,
     "metadata": {},
     "output_type": "execute_result"
    }
   ],
   "source": [
    "#aplicando modelo aos dados de 2014\n",
    "predict_lasso_geral = modelo_lasso_final.predict(xdados_selecao_2014)\n",
    "\n",
    "np.sqrt(mean_squared_error(ydados_selecao_2014, predict_lasso_geral))"
   ]
  },
  {
   "cell_type": "markdown",
   "id": "53361c2b",
   "metadata": {},
   "source": [
    "# Modelo Random Forests"
   ]
  },
  {
   "cell_type": "code",
   "execution_count": 296,
   "id": "226a9a28",
   "metadata": {},
   "outputs": [
    {
     "data": {
      "text/plain": [
       "41562.63620297488"
      ]
     },
     "execution_count": 296,
     "metadata": {},
     "output_type": "execute_result"
    }
   ],
   "source": [
    "#Modelo com Random Forest\n",
    "\n",
    "arvores = RandomForestRegressor(random_state=0)\n",
    "arvores.fit(xTreino,yTreino)\n",
    "predict_random = arvores.predict(xTeste)\n",
    "\n",
    "residuo_random = yTeste - predict_random\n",
    "\n",
    "np.sqrt(mean_squared_error(yTeste, predict_random))"
   ]
  },
  {
   "cell_type": "markdown",
   "id": "754e8cd0",
   "metadata": {},
   "source": [
    "### Validação Cruzada do Modelo Random Forest"
   ]
  },
  {
   "cell_type": "code",
   "execution_count": 297,
   "id": "89207c38",
   "metadata": {},
   "outputs": [
    {
     "data": {
      "text/plain": [
       "36212.72085113088"
      ]
     },
     "execution_count": 297,
     "metadata": {},
     "output_type": "execute_result"
    }
   ],
   "source": [
    "validacao_cruzada_RF = cross_val_predict(arvores, X, Y, cv=10)\n",
    "np.sqrt(mean_squared_error(Y, validacao_cruzada_RF))"
   ]
  },
  {
   "cell_type": "markdown",
   "id": "6bb463fa",
   "metadata": {},
   "source": [
    "O Plot abaixo trás os residuos do modelo Random Forest, podemos observar que o gráfico indica uma relação linear entre os valores de x e y dos resíduos sendo estes aleatórios entre cada ponto no gráfico indicando assim uma variância constante. Mediante estes fatores podemos inferir uma boa adequabilidade do modelo ao problema. \n"
   ]
  },
  {
   "cell_type": "code",
   "execution_count": 298,
   "id": "c7dc7a8a",
   "metadata": {},
   "outputs": [
    {
     "data": {
      "image/png": "[encoded data removed]",
      "text/plain": [
       "<Figure size 640x480 with 1 Axes>"
      ]
     },
     "metadata": {},
     "output_type": "display_data"
    }
   ],
   "source": [
    "plt.scatter(predict_random,residuo_random);\n",
    "plt.title(\"Resíduo x predições Random Forest\")\n",
    "plt.xlabel('Preds');\n",
    "plt.ylabel('Residuals');"
   ]
  },
  {
   "cell_type": "code",
   "execution_count": 269,
   "id": "94dabb1a",
   "metadata": {},
   "outputs": [
    {
     "data": {
      "text/plain": [
       "13852.836697034834"
      ]
     },
     "execution_count": 269,
     "metadata": {},
     "output_type": "execute_result"
    }
   ],
   "source": [
    "#TREINANDO MODELO COM DADOS 2006 + 2010\n",
    "arvores.fit(dados_selecao_2006_2010,ydados_selecao_2006_2010)\n",
    "predict_random = arvores.predict(dados_selecao_2006_2010)\n",
    "\n",
    "np.sqrt(mean_squared_error(ydados_selecao_2006_2010, predict_random))"
   ]
  },
  {
   "cell_type": "code",
   "execution_count": 270,
   "id": "62cb0601",
   "metadata": {},
   "outputs": [
    {
     "name": "stderr",
     "output_type": "stream",
     "text": [
      "C:\\Users\\admin\\AppData\\Local\\Programs\\Python\\Python310\\lib\\site-packages\\sklearn\\base.py:450: UserWarning: X does not have valid feature names, but Lasso was fitted with feature names\n",
      "  warnings.warn(\n"
     ]
    },
    {
     "data": {
      "text/plain": [
       "38713.729274649035"
      ]
     },
     "execution_count": 270,
     "metadata": {},
     "output_type": "execute_result"
    }
   ],
   "source": [
    "#aplicando modelo aos dados de 2014\n",
    "predict_random = modelo_lasso_final.predict(xdados_selecao_2014)\n",
    "\n",
    "np.sqrt(mean_squared_error(ydados_selecao_2014, predict_random))"
   ]
  },
  {
   "cell_type": "markdown",
   "id": "44d7ef3f",
   "metadata": {},
   "source": [
    "## Modelo Decision Tree"
   ]
  },
  {
   "cell_type": "code",
   "execution_count": 300,
   "id": "30225930",
   "metadata": {},
   "outputs": [
    {
     "data": {
      "text/plain": [
       "52771.94532021264"
      ]
     },
     "execution_count": 300,
     "metadata": {},
     "output_type": "execute_result"
    }
   ],
   "source": [
    "#Modelo com Decision Tree\n",
    "modeloDecisionTree = DecisionTreeRegressor(random_state=0)\n",
    "modeloDecisionTree.fit(xTreino,yTreino)\n",
    "predictDecisionTree = modeloDecisionTree.predict(xTeste)\n",
    "\n",
    "residual_DT = yTeste - predictDecisionTree\n",
    "\n",
    "np.sqrt(mean_squared_error(yTeste, predictDecisionTree))\n",
    "\n"
   ]
  },
  {
   "cell_type": "markdown",
   "id": "c346b3d0",
   "metadata": {},
   "source": [
    "### Validação Cruzada do Modelo Decision Tree"
   ]
  },
  {
   "cell_type": "code",
   "execution_count": 301,
   "id": "c0802cb2",
   "metadata": {},
   "outputs": [
    {
     "data": {
      "text/plain": [
       "50941.199321176566"
      ]
     },
     "execution_count": 301,
     "metadata": {},
     "output_type": "execute_result"
    }
   ],
   "source": [
    "validacao_cruzada_DT = cross_val_predict(modeloDecisionTree, X, Y, cv=10)\n",
    "np.sqrt(mean_squared_error(Y, validacao_cruzada_DT))"
   ]
  },
  {
   "cell_type": "markdown",
   "id": "98c7b2a9",
   "metadata": {},
   "source": [
    "O Plot para o modelo Decision Tree, podemos observar que o gráfico indica uma relação linear entre os valores de x e y dos resíduos sendo estes aleatórios entre cada ponto no gráfico, entretando alguns valores de do eixo X as predictions se concentraram não seguindo a linearidade demonstrada no gráfico, como são em dados pontuais, mesmo assim em contexto geral os dados seguem uma aleatoriedade e linearidade esperadas para garantia que o modelo tem uma boa adequabilidade ao problema. "
   ]
  },
  {
   "cell_type": "code",
   "execution_count": 302,
   "id": "0b1b1a6f",
   "metadata": {},
   "outputs": [
    {
     "data": {
      "image/png": "[encoded data removed]",
      "text/plain": [
       "<Figure size 640x480 with 1 Axes>"
      ]
     },
     "metadata": {},
     "output_type": "display_data"
    }
   ],
   "source": [
    "plt.scatter(predictDecisionTree,residual_DT);\n",
    "plt.title(\"Resíduo x predições Decision Tree\")\n",
    "plt.xlabel('Preds');\n",
    "plt.ylabel('Residuals');"
   ]
  },
  {
   "cell_type": "code",
   "execution_count": 274,
   "id": "92733fc6",
   "metadata": {},
   "outputs": [
    {
     "data": {
      "text/plain": [
       "144.6774842442133"
      ]
     },
     "execution_count": 274,
     "metadata": {},
     "output_type": "execute_result"
    }
   ],
   "source": [
    "#TREINANDO MODELO COM DADOS 2006 + 2010\n",
    "modeloDecisionTree.fit(dados_selecao_2006_2010,ydados_selecao_2006_2010)\n",
    "predictDecisionTree = modeloDecisionTree.predict(dados_selecao_2006_2010)\n",
    "\n",
    "np.sqrt(mean_squared_error(ydados_selecao_2006_2010, predictDecisionTree))"
   ]
  },
  {
   "cell_type": "code",
   "execution_count": 275,
   "id": "f22b8a73",
   "metadata": {},
   "outputs": [
    {
     "name": "stderr",
     "output_type": "stream",
     "text": [
      "C:\\Users\\admin\\AppData\\Local\\Programs\\Python\\Python310\\lib\\site-packages\\sklearn\\base.py:450: UserWarning: X does not have valid feature names, but DecisionTreeRegressor was fitted with feature names\n",
      "  warnings.warn(\n"
     ]
    },
    {
     "data": {
      "text/plain": [
       "198165.93380740186"
      ]
     },
     "execution_count": 275,
     "metadata": {},
     "output_type": "execute_result"
    }
   ],
   "source": [
    "#aplicando modelo aos dados de 2014\n",
    "predictDecisionTree = modeloDecisionTree.predict(xdados_selecao_2014)\n",
    "\n",
    "np.sqrt(mean_squared_error(ydados_selecao_2014, predictDecisionTree))"
   ]
  },
  {
   "cell_type": "markdown",
   "id": "32bdb6ee",
   "metadata": {},
   "source": [
    "## KNN"
   ]
  },
  {
   "cell_type": "code",
   "execution_count": 276,
   "id": "3b4645ad",
   "metadata": {},
   "outputs": [
    {
     "data": {
      "text/plain": [
       "55658.60513282114"
      ]
     },
     "execution_count": 276,
     "metadata": {},
     "output_type": "execute_result"
    }
   ],
   "source": [
    "modeloKnn = KNeighborsRegressor(n_neighbors=1)\n",
    "modeloKnn.fit(xTreino,yTreino)\n",
    "predictKnn = modeloKnn.predict(xTeste)\n",
    "\n",
    "resitualKnn = yTeste - predictKnn\n",
    "\n",
    "np.sqrt(mean_squared_error(yTeste, predictKnn))"
   ]
  },
  {
   "cell_type": "markdown",
   "id": "4c2d3a63",
   "metadata": {},
   "source": [
    "### Validação Cruzada do Modelo KNN"
   ]
  },
  {
   "cell_type": "code",
   "execution_count": 277,
   "id": "f2207752",
   "metadata": {},
   "outputs": [
    {
     "data": {
      "text/plain": [
       "47514.81632292855"
      ]
     },
     "execution_count": 277,
     "metadata": {},
     "output_type": "execute_result"
    }
   ],
   "source": [
    "validacao_cruzada_Knn = cross_val_predict(modeloKnn, X, Y, cv=10)\n",
    "np.sqrt(mean_squared_error(Y, validacao_cruzada_Knn))"
   ]
  },
  {
   "cell_type": "code",
   "execution_count": 278,
   "id": "910eb5da",
   "metadata": {},
   "outputs": [
    {
     "data": {
      "image/png": "[encoded data removed]",
      "text/plain": [
       "<Figure size 640x480 with 1 Axes>"
      ]
     },
     "metadata": {},
     "output_type": "display_data"
    }
   ],
   "source": [
    "plt.scatter(predictKnn,resitualKnn);\n",
    "plt.title(\"Resíduo x predições KNN\")\n",
    "plt.xlabel('Preds');\n",
    "plt.ylabel('Residuals');"
   ]
  },
  {
   "cell_type": "code",
   "execution_count": 279,
   "id": "6e4161f2",
   "metadata": {},
   "outputs": [
    {
     "data": {
      "text/plain": [
       "223.84002277986403"
      ]
     },
     "execution_count": 279,
     "metadata": {},
     "output_type": "execute_result"
    }
   ],
   "source": [
    "#TREINANDO MODELO COM DADOS 2006 + 2010\n",
    "modeloKnn.fit(dados_selecao_2006_2010,ydados_selecao_2006_2010)\n",
    "predictKnn = modeloKnn.predict(dados_selecao_2006_2010)\n",
    "\n",
    "np.sqrt(mean_squared_error(ydados_selecao_2006_2010, predictKnn))"
   ]
  },
  {
   "cell_type": "code",
   "execution_count": 280,
   "id": "5989b50e",
   "metadata": {},
   "outputs": [
    {
     "name": "stderr",
     "output_type": "stream",
     "text": [
      "C:\\Users\\admin\\AppData\\Local\\Programs\\Python\\Python310\\lib\\site-packages\\sklearn\\base.py:450: UserWarning: X does not have valid feature names, but KNeighborsRegressor was fitted with feature names\n",
      "  warnings.warn(\n"
     ]
    },
    {
     "data": {
      "text/plain": [
       "49596.677737383776"
      ]
     },
     "execution_count": 280,
     "metadata": {},
     "output_type": "execute_result"
    }
   ],
   "source": [
    "#aplicando modelo aos dados de 2014\n",
    "predictKnn = modeloKnn.predict(xdados_selecao_2014)\n",
    "\n",
    "np.sqrt(mean_squared_error(ydados_selecao_2014, predictKnn))"
   ]
  },
  {
   "cell_type": "markdown",
   "id": "f18842b0",
   "metadata": {},
   "source": [
    "## SVR"
   ]
  },
  {
   "cell_type": "code",
   "execution_count": 286,
   "id": "dd13d576",
   "metadata": {},
   "outputs": [
    {
     "data": {
      "text/plain": [
       "53486.20180515505"
      ]
     },
     "execution_count": 286,
     "metadata": {},
     "output_type": "execute_result"
    }
   ],
   "source": [
    "modeloSVR = SVR(kernel='rbf')\n",
    "modeloSVR.fit(xTreino,yTreino)\n",
    "predictSVR = modeloSVR.predict(xTeste)\n",
    "\n",
    "residualSVR = yTeste - predictSVR\n",
    "\n",
    "np.sqrt(mean_squared_error(yTeste, predictSVR))"
   ]
  },
  {
   "cell_type": "markdown",
   "id": "4fb9ceaf",
   "metadata": {},
   "source": [
    "### Validação Cruzada do Modelo SVR"
   ]
  },
  {
   "cell_type": "code",
   "execution_count": 287,
   "id": "d4a23951",
   "metadata": {},
   "outputs": [
    {
     "data": {
      "text/plain": [
       "52021.03203348497"
      ]
     },
     "execution_count": 287,
     "metadata": {},
     "output_type": "execute_result"
    }
   ],
   "source": [
    "validacao_cruzada_SVR = cross_val_predict(modeloSVR, X, Y, cv=10)\n",
    "np.sqrt(mean_squared_error(Y, validacao_cruzada_SVR))"
   ]
  },
  {
   "cell_type": "markdown",
   "id": "9773562c",
   "metadata": {},
   "source": [
    "O Plot para análise da boa adequabilidade do modelo ao problema analisádo entre os resíduos e a variância para o modelo SVR demonstra que os valores indicam que os dados são aleatorios e lineares, diferente dos outros modelos os valores residuais do modelo SVR retornou somente valores > 0."
   ]
  },
  {
   "cell_type": "code",
   "execution_count": 294,
   "id": "6a6947a9",
   "metadata": {},
   "outputs": [
    {
     "data": {
      "image/png": "[encoded data removed]",
      "text/plain": [
       "<Figure size 640x480 with 1 Axes>"
      ]
     },
     "metadata": {},
     "output_type": "display_data"
    }
   ],
   "source": [
    "plt.scatter(predictSVR,residualSVR);\n",
    "plt.title(\"Resíduo x predições SVR\")\n",
    "plt.xlabel('Preds');\n",
    "plt.ylabel('Residuals');"
   ]
  },
  {
   "cell_type": "code",
   "execution_count": 284,
   "id": "381fd2b1",
   "metadata": {},
   "outputs": [
    {
     "data": {
      "text/plain": [
       "52006.89045700436"
      ]
     },
     "execution_count": 284,
     "metadata": {},
     "output_type": "execute_result"
    }
   ],
   "source": [
    "#TREINANDO MODELO COM DADOS 2006 + 2010\n",
    "modeloSVR.fit(dados_selecao_2006_2010,ydados_selecao_2006_2010)\n",
    "predictSVR = modeloSVR.predict(dados_selecao_2006_2010)\n",
    "\n",
    "np.sqrt(mean_squared_error(ydados_selecao_2006_2010, predictSVR))"
   ]
  },
  {
   "cell_type": "code",
   "execution_count": 285,
   "id": "92796f19",
   "metadata": {},
   "outputs": [
    {
     "name": "stderr",
     "output_type": "stream",
     "text": [
      "C:\\Users\\admin\\AppData\\Local\\Programs\\Python\\Python310\\lib\\site-packages\\sklearn\\base.py:450: UserWarning: X does not have valid feature names, but SVR was fitted with feature names\n",
      "  warnings.warn(\n"
     ]
    },
    {
     "data": {
      "text/plain": [
       "48712.03371543074"
      ]
     },
     "execution_count": 285,
     "metadata": {},
     "output_type": "execute_result"
    }
   ],
   "source": [
    "#aplicando modelo aos dados de 2014\n",
    "predictSVR = modeloSVR.predict(xdados_selecao_2014)\n",
    "\n",
    "np.sqrt(mean_squared_error(ydados_selecao_2014, predictSVR))"
   ]
  },
  {
   "cell_type": "markdown",
   "id": "80bd3856",
   "metadata": {},
   "source": [
    "# Melhor Modelo"
   ]
  },
  {
   "cell_type": "code",
   "execution_count": null,
   "id": "ed5da506",
   "metadata": {},
   "outputs": [],
   "source": []
  },
  {
   "cell_type": "code",
   "execution_count": 222,
   "id": "23dc7c7e",
   "metadata": {},
   "outputs": [],
   "source": []
  }
 ],
 "metadata": {
  "kernelspec": {
   "display_name": "Python 3 (ipykernel)",
   "language": "python",
   "name": "python3"
  },
  "language_info": {
   "codemirror_mode": {
    "name": "ipython",
    "version": 3
   },
   "file_extension": ".py",
   "mimetype": "text/x-python",
   "name": "python",
   "nbconvert_exporter": "python",
   "pygments_lexer": "ipython3",
   "version": "3.10.7"
  }
 },
 "nbformat": 4,
 "nbformat_minor": 5
}
